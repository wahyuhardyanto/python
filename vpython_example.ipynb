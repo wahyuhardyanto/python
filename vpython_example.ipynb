{
 "cells": [
  {
   "cell_type": "code",
   "execution_count": null,
   "id": "91c6d985-64de-4bcf-a98e-15b54957e106",
   "metadata": {},
   "outputs": [],
   "source": [
    "from vpython import sphere, vector, color\n",
    "\n",
    "# Membuat bola\n",
    "bola = sphere(pos=vector(0, 0, 0), radius=1, color=color.red)"
   ]
  }
 ],
 "metadata": {
  "kernelspec": {
   "display_name": "Python 3",
   "language": "python",
   "name": "python3"
  },
  "language_info": {
   "codemirror_mode": {
    "name": "ipython",
    "version": 3
   },
   "file_extension": ".py",
   "mimetype": "text/x-python",
   "name": "python",
   "nbconvert_exporter": "python",
   "pygments_lexer": "ipython3",
   "version": "3.9.16"
  }
 },
 "nbformat": 4,
 "nbformat_minor": 5
}

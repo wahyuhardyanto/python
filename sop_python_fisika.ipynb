{
 "cells": [
  {
   "cell_type": "markdown",
   "id": "b6d40a17-d872-4503-be0d-31fcaad4cefc",
   "metadata": {},
   "source": [
    "<h1>Vpython Fisika</h1> "
   ]
  },
  {
   "cell_type": "markdown",
   "id": "27d683ea-9274-45a7-9e29-d8410f5d3b60",
   "metadata": {},
   "source": [
    "## Materi dan Software:\n",
    "* ### Openstax online (free) textbook College Physics.  [**https://openstax.org/details/books/college-physics-2e/**](https://openstax.org/details/books/college-physics-2e/ )\n",
    "\n",
    "* ### Web VPython atau modul visualisasi 3D. [**http://www.glowscript.org/**](http://www.glowscript.org/)\n",
    "* ### Google Colaboratory. [**https://colab.research.google.com/**](https://colab.research.google.com/)"
   ]
  },
  {
   "cell_type": "markdown",
   "id": "01a2d85b-d93f-4d34-9579-a32070d05213",
   "metadata": {},
   "source": [
    "<hr>\n",
    "<div>\n",
    "    <h2> Pemodelan Gerak Proyektil </h2>\n",
    "    <ul>\n",
    "    <li> <h3> Analitik </h3> </li>\n",
    "    <li> <h3> Numerik </h3> </li>\n",
    "    </ul>\n",
    "    <h2>Pemodelan Gerak Orbital </h2>\n",
    "    <ul>\n",
    "    <li> <h3> Gerak Satelit </h3> </li>\n",
    "    <li> <h3> Momentum Bumi Bulan </h3> </li>\n",
    "    <li> <h3> Energi Potensial Gravitasi </h3> </li>\n",
    "    <li> <h3> Escape Velocity </h3> </li>    \n",
    "    </ul>\n",
    "</div>\n",
    "<hr>"
   ]
  },
  {
   "cell_type": "markdown",
   "id": "da4df4d3-8ed6-4b1d-b407-a58718c5c0bb",
   "metadata": {},
   "source": [
    "<h1>  <i>\"A Bull’s-Eye Every Time\"</i> </h1>\n",
    " \n",
    "<div>\n",
    "    <font size=\"3\"> \n",
    "    <table>\n",
    "        <tr>\n",
    "        Sebuah proyektil ditembakkan ke suatu target sedemikian rupa sehingga proyektil tersebut meninggalkan senjatanya pada saat yang sama target tersebut dijatuhkan dari keadaan diam. Tunjukkan bahwa jika kecepatan awalnya diarahkan pada target yang diam, proyektil mengenai target yang jatuh seperti yang ditunjukkan pada Gambar.\n",
    "        </tr>\n",
    "        <tr>\n",
    "            <td>\n",
    "                 <img src=\"gun_ball.jpg\" width=\"500\"/>\n",
    "            </td>\n",
    "        </tr>\n",
    "        <tr>\n",
    "            <td>\n",
    "            <img src=\"gun_falling_obj.png\" width=\"500\"/>\n",
    "            </td>\n",
    "            <td>\n",
    "                <font size=\"3\">\n",
    "               $$ y_{T} = y_{0T} − \\tfrac{1}{2} g t^2 $$\n",
    "               $$ y_{P} = v_{0yP}\\;t - \\tfrac{1}{2} g t^2 $$\n",
    "               $$ x_{P} = v_{0xP}\\;t $$\n",
    "                </font>\n",
    "            </td>\n",
    "        </tr>   \n",
    "   </table>\n",
    "  </font> \n",
    "</div>"
   ]
  },
  {
   "cell_type": "code",
   "execution_count": null,
   "id": "4072b190-1e57-490a-aaa2-3c0a2a537ee7",
   "metadata": {},
   "outputs": [],
   "source": [
    "from vpython import *\n",
    "scene = canvas()\n",
    "\n",
    "# bola_p = sphere(pos=vector(0,0,0))\n",
    "bola_P = sphere(pos=vector(-20,0,0), color=color.yellow, make_trail=True)\n",
    "bola_T = sphere(pos=vector(0,20,0), color=color.cyan, make_trail=True)\n",
    "\n",
    "g = 9.8\n",
    "bola_P.v = vector(11,11,0)\n",
    "bola_T.v = vector(0,0,0)\n",
    "dt = 0.004\n",
    "t = 0\n",
    "y0_P = bola_P.pos.y\n",
    "x0_P = bola_P.pos.x\n",
    "y0_T = bola_T.pos.y\n",
    "x0_T = bola_T.pos.x\n",
    "\n",
    "from vpython import *\n",
    "scene = canvas()\n",
    "\n",
    "bola_P = sphere(pos=vector(-20,0,0), color=color.yellow, make_trail=True)\n",
    "bola_T = sphere(pos=vector(0,20,0), color=color.cyan, make_trail=True)\n",
    "\n",
    "g = 9.8\n",
    "bola_P.v = vector(11,11,0)\n",
    "bola_T.v = vector(0,0,0)\n",
    "dt = 0.004\n",
    "t = 0\n",
    "y0_P = bola_P.pos.y\n",
    "x0_P = bola_P.pos.x\n",
    "y0_T = bola_T.pos.y\n",
    "x0_T = bola_T.pos.x\n",
    "\n",
    "while t<=3:\n",
    "    rate(100)\n",
    "    bola_T.pos.y = y0_T - 0.5*g*t**2\n",
    "    bola_P.pos.x = x0_P + bola_P.v.x * t\n",
    "    bola_P.pos.y = y0_P + bola_P.v.y * t - 0.5*g*t**2\n",
    "    if round(bola_T.pos.y,1) == round(bola_P.pos.y,1):\n",
    "        break\n",
    "    t = t + dt\n",
    "print(round(bola_T.pos.y,1), ' ', round(bola_P.pos.y,1))"
   ]
  },
  {
   "cell_type": "markdown",
   "id": "9249501b-69f2-4aca-aa54-00397d1890c5",
   "metadata": {},
   "source": [
    "<h1>  <i>\"That’s Quite an Arm!\"</i> </h1>\n",
    "\n",
    "  * #### Modul sympy\n",
    "\n",
    "<center>\n",
    "<font size=\"3\">\n",
    "<div>\n",
    "   <img src=\"projectile_path.png\" width=\"500\"/>\n",
    "$$ v_{0x} = v_0 \\cos(\\theta)$$\n",
    "$$ v_{0y} = v_0 \\sin(\\theta)$$\n",
    "\n",
    "$$ v_x = v_{0x}$$\n",
    "$$ x = v_{0x}t$$\n",
    "\n",
    "$$ v_y = v_{0y} -gt$$\n",
    "\n",
    "$$ y = y_0 + v_{0y}t - \\tfrac{1}{2}gt^2$$\n",
    "\n",
    "$$ v_y^2=v_{0y}^2 − 2𝑔(y−y_0)$$\n",
    "\n",
    "Waktu hingga mencapai target di tanah $(x,0)$ :\n",
    "\n",
    "$$ t_{hit} = \\frac{\\left (v_{0y} + \\sqrt{v_{0y}^2 + 2gy_0} \\right )}{g} $$\n",
    "</div>\n",
    "</font>\n",
    "</center>"
   ]
  },
  {
   "cell_type": "code",
   "execution_count": 6,
   "id": "a38f4806-d6d3-489f-aa1c-c6ca1d6b6b2a",
   "metadata": {},
   "outputs": [],
   "source": [
    "import sympy as sp\n",
    "x, x0, y, y0, t, g, theta, v0 = sp.symbols('x x0 y y0 t g theta v0')"
   ]
  },
  {
   "cell_type": "code",
   "execution_count": 18,
   "id": "c4976f04-2fa9-4339-ac50-89e1f8534434",
   "metadata": {},
   "outputs": [
    {
     "data": {
      "text/latex": [
       "$\\displaystyle - t v_{0} \\cos{\\left(\\theta \\right)} - x + x_{0} = 0$"
      ],
      "text/plain": [
       "Eq(-t*v0*cos(theta) - x + x0, 0)"
      ]
     },
     "execution_count": 18,
     "metadata": {},
     "output_type": "execute_result"
    }
   ],
   "source": [
    "x_eq = sp.Eq(x0 - x -v0*sp.cos(theta)*t, 0)\n",
    "x_eq"
   ]
  },
  {
   "cell_type": "code",
   "execution_count": 13,
   "id": "613e1af6-e5dc-40d7-9aca-bb336d39e9ac",
   "metadata": {},
   "outputs": [
    {
     "data": {
      "text/latex": [
       "$\\displaystyle - \\frac{g t^{2}}{2} + t v_{0} \\sin{\\left(\\theta \\right)} - y + y_{0} = 0$"
      ],
      "text/plain": [
       "Eq(-g*t**2/2 + t*v0*sin(theta) - y + y0, 0)"
      ]
     },
     "execution_count": 13,
     "metadata": {},
     "output_type": "execute_result"
    }
   ],
   "source": [
    "y_eq = sp.Eq(y0 - y + v0*sp.sin(theta)*t - sp.Rational(1,2)*g*t**2, 0)\n",
    "y_eq"
   ]
  },
  {
   "cell_type": "code",
   "execution_count": 14,
   "id": "acedf0fd-7561-4612-947e-c71486212b56",
   "metadata": {},
   "outputs": [
    {
     "data": {
      "text/plain": [
       "[(v0*sin(theta) - sqrt(-2*g*y + 2*g*y0 + v0**2*sin(theta)**2))/g,\n",
       " (v0*sin(theta) + sqrt(-2*g*y + 2*g*y0 + v0**2*sin(theta)**2))/g]"
      ]
     },
     "execution_count": 14,
     "metadata": {},
     "output_type": "execute_result"
    }
   ],
   "source": [
    "t_sol = sp.solve(y_eq, t)\n",
    "t_sol"
   ]
  },
  {
   "cell_type": "code",
   "execution_count": 16,
   "id": "7fec85da-0419-4de9-ab9d-e20ca4cb4a0a",
   "metadata": {},
   "outputs": [
    {
     "data": {
      "text/latex": [
       "$\\displaystyle \\frac{v_{0} \\sin{\\left(\\theta \\right)} + \\sqrt{- 2 g y + 2 g y_{0} + v_{0}^{2} \\sin^{2}{\\left(\\theta \\right)}}}{g}$"
      ],
      "text/plain": [
       "(v0*sin(theta) + sqrt(-2*g*y + 2*g*y0 + v0**2*sin(theta)**2))/g"
      ]
     },
     "execution_count": 16,
     "metadata": {},
     "output_type": "execute_result"
    }
   ],
   "source": [
    "t_sol[1]"
   ]
  },
  {
   "cell_type": "code",
   "execution_count": 17,
   "id": "91810ac4-22ca-41e9-ad00-2fcaefc48a67",
   "metadata": {},
   "outputs": [
    {
     "data": {
      "text/latex": [
       "$\\displaystyle \\frac{v_{0} \\sin{\\left(\\theta \\right)} + \\sqrt{2 g y_{0} + v_{0}^{2} \\sin^{2}{\\left(\\theta \\right)}}}{g}$"
      ],
      "text/plain": [
       "(v0*sin(theta) + sqrt(2*g*y0 + v0**2*sin(theta)**2))/g"
      ]
     },
     "execution_count": 17,
     "metadata": {},
     "output_type": "execute_result"
    }
   ],
   "source": [
    "t_sol[1].subs(y, 0)"
   ]
  },
  {
   "cell_type": "code",
   "execution_count": 19,
   "id": "24be0e6a-d6a9-4a02-b28f-096a859ff1b4",
   "metadata": {},
   "outputs": [
    {
     "data": {
      "text/latex": [
       "$\\displaystyle - x + x_{0} - \\frac{v_{0} \\left(v_{0} \\sin{\\left(\\theta \\right)} + \\sqrt{- 2 g y + 2 g y_{0} + v_{0}^{2} \\sin^{2}{\\left(\\theta \\right)}}\\right) \\cos{\\left(\\theta \\right)}}{g} = 0$"
      ],
      "text/plain": [
       "Eq(-x + x0 - v0*(v0*sin(theta) + sqrt(-2*g*y + 2*g*y0 + v0**2*sin(theta)**2))*cos(theta)/g, 0)"
      ]
     },
     "execution_count": 19,
     "metadata": {},
     "output_type": "execute_result"
    }
   ],
   "source": [
    "x_eq2 = x_eq.subs(t, t_sol[1])\n",
    "x_eq2"
   ]
  },
  {
   "cell_type": "code",
   "execution_count": 20,
   "id": "e6bf9b1f-0d11-4548-8f57-8baf10cc78b4",
   "metadata": {},
   "outputs": [
    {
     "data": {
      "text/latex": [
       "$\\displaystyle \\frac{g \\left(- x + x_{0}\\right) - v_{0} \\left(v_{0} \\sin{\\left(\\theta \\right)} + \\sqrt{- 2 g y + 2 g y_{0} + v_{0}^{2} \\sin^{2}{\\left(\\theta \\right)}}\\right) \\cos{\\left(\\theta \\right)}}{g} = 0$"
      ],
      "text/plain": [
       "Eq((g*(-x + x0) - v0*(v0*sin(theta) + sqrt(-2*g*y + 2*g*y0 + v0**2*sin(theta)**2))*cos(theta))/g, 0)"
      ]
     },
     "execution_count": 20,
     "metadata": {},
     "output_type": "execute_result"
    }
   ],
   "source": [
    "x_eq2.simplify()"
   ]
  },
  {
   "cell_type": "code",
   "execution_count": 24,
   "id": "9a7b0fb8-5a73-426e-ad78-cb7028b8b302",
   "metadata": {},
   "outputs": [
    {
     "data": {
      "text/latex": [
       "$\\displaystyle \\frac{g x_{0} - \\frac{v_{0}^{2} \\sin{\\left(2 \\theta \\right)}}{2} - v_{0} \\sqrt{- 2 g y + 2 g y_{0} + v_{0}^{2} \\sin^{2}{\\left(\\theta \\right)}} \\cos{\\left(\\theta \\right)}}{g}$"
      ],
      "text/plain": [
       "(g*x0 - v0**2*sin(2*theta)/2 - v0*sqrt(-2*g*y + 2*g*y0 + v0**2*sin(theta)**2)*cos(theta))/g"
      ]
     },
     "execution_count": 24,
     "metadata": {},
     "output_type": "execute_result"
    }
   ],
   "source": [
    "x_f[0].simplify()"
   ]
  },
  {
   "cell_type": "code",
   "execution_count": 26,
   "id": "445a5be5-5a82-46cf-a98c-7e9b82054ee7",
   "metadata": {},
   "outputs": [
    {
     "data": {
      "text/plain": [
       "-2.7637733197671626"
      ]
     },
     "execution_count": 26,
     "metadata": {},
     "output_type": "execute_result"
    }
   ],
   "source": [
    "xf_num = sp.lambdify((x,x0,y,y0,t,g,theta,v0), x_f[0])\n",
    "\n",
    "xf_num(0,0,0,1,0, 9.81 , 0.2 ,5) "
   ]
  },
  {
   "cell_type": "code",
   "execution_count": 19,
   "id": "540e34fa-cf35-432b-bb48-396f225e2df2",
   "metadata": {},
   "outputs": [],
   "source": [
    "thetas = np.linspace(0, np.pi/2, 100)"
   ]
  },
  {
   "cell_type": "code",
   "execution_count": 20,
   "id": "29a54d18-2cc7-4290-b9a6-63c4af1c7577",
   "metadata": {},
   "outputs": [],
   "source": [
    "xf_v = xf_num(0,0,0,1,0,9.81,thetas,10)"
   ]
  },
  {
   "cell_type": "code",
   "execution_count": 21,
   "id": "de099b05-2903-4b3d-8dce-cf984580d85f",
   "metadata": {},
   "outputs": [
    {
     "data": {
      "image/png": "[encoded data removed]",
      "text/plain": [
       "<Figure size 432x288 with 1 Axes>"
      ]
     },
     "metadata": {
      "needs_background": "light"
     },
     "output_type": "display_data"
    }
   ],
   "source": [
    "plt.plot(thetas, xf_v)\n",
    "plt.xlabel('Theta')\n",
    "plt.ylabel('Jarak[m]')\n",
    "plt.show()"
   ]
  },
  {
   "cell_type": "code",
   "execution_count": 22,
   "id": "09aa6279-1c54-44f6-b1eb-0ba7c68b0641",
   "metadata": {},
   "outputs": [
    {
     "data": {
      "text/plain": [
       "[sqrt(g/(x*sin(2*theta) - x0*sin(2*theta) - y*cos(2*theta) - y + y0*cos(2*theta) + y0))*(-x + x0),\n",
       " sqrt(g/(x*sin(2*theta) - x0*sin(2*theta) - y*cos(2*theta) - y + y0*cos(2*theta) + y0))*(x - x0)]"
      ]
     },
     "execution_count": 22,
     "metadata": {},
     "output_type": "execute_result"
    }
   ],
   "source": [
    "v0f = sp.solve(x_eq2, v0)\n",
    "v0f"
   ]
  },
  {
   "cell_type": "code",
   "execution_count": 23,
   "id": "b0c4d43a-0296-440d-b123-df261fe6db31",
   "metadata": {},
   "outputs": [
    {
     "data": {
      "text/latex": [
       "$\\displaystyle \\sqrt{\\frac{g}{x \\sin{\\left(2 \\theta \\right)} - x_{0} \\sin{\\left(2 \\theta \\right)} - y \\cos{\\left(2 \\theta \\right)} - y + y_{0} \\cos{\\left(2 \\theta \\right)} + y_{0}}} \\left(- x + x_{0}\\right)$"
      ],
      "text/plain": [
       "sqrt(g/(x*sin(2*theta) - x0*sin(2*theta) - y*cos(2*theta) - y + y0*cos(2*theta) + y0))*(-x + x0)"
      ]
     },
     "execution_count": 23,
     "metadata": {},
     "output_type": "execute_result"
    }
   ],
   "source": [
    "v0f[0].simplify()"
   ]
  },
  {
   "cell_type": "code",
   "execution_count": 24,
   "id": "ba1a3878-4233-4308-8162-5cea5e4786fd",
   "metadata": {},
   "outputs": [
    {
     "data": {
      "text/plain": [
       "2.530788065990598"
      ]
     },
     "execution_count": 24,
     "metadata": {},
     "output_type": "execute_result"
    }
   ],
   "source": [
    "v0f_num = sp.lambdify((x,x0,y,y0,t,g,theta), v0f[0])\n",
    "v0f_num(0,1,0,1,0,9.81,0.2)"
   ]
  },
  {
   "cell_type": "code",
   "execution_count": 26,
   "id": "3c34439c-41ce-4f6d-a11f-fdd0bdee8e49",
   "metadata": {},
   "outputs": [],
   "source": [
    "v0f_v = v0f_num(0,10,0,10,0,9.81,thetas)"
   ]
  },
  {
   "cell_type": "code",
   "execution_count": 28,
   "id": "3cec1ffd-265b-4c8b-b3cb-c432bd79feab",
   "metadata": {},
   "outputs": [
    {
     "data": {
      "image/png": "[encoded data removed]",
      "text/plain": [
       "<Figure size 432x288 with 1 Axes>"
      ]
     },
     "metadata": {
      "needs_background": "light"
     },
     "output_type": "display_data"
    }
   ],
   "source": [
    "plt.plot(thetas, v0f_v)\n",
    "plt.xlabel('Theta')\n",
    "plt.ylabel('v0 [m/s]')\n",
    "plt.show()"
   ]
  },
  {
   "cell_type": "markdown",
   "id": "f5fe38a5-f25f-4f3a-8298-30a3ae8f062c",
   "metadata": {},
   "source": [
    "## Pendekatan Numerik pada Gerak Benda\n",
    "  \n",
    "<div>\n",
    "<font size=\"3\">\n",
    "$$ v_y = \\frac{dy}{dt} ≈ \\frac{∆y}{∆t} ≈ \\frac{y_f − y_i}{∆t} $$\n",
    "$$ y_f ≈ y_i + v_y ∆t $$\n",
    "$$ v_{yf} ≈ v_{yi} + ay ∆t$$\n",
    "\n",
    "$$ a_y = \\frac{\\sum F_y}{m}$$\n",
    "\n",
    "$$ a_y = −g $$\n",
    "\n",
    "</font>\n",
    "</div>"
   ]
  },
  {
   "cell_type": "markdown",
   "id": "85daee29-6764-44f5-808b-87251b4b2186",
   "metadata": {},
   "source": [
    "* ### Update Variabel secara Vektor\n",
    "  \n",
    "$$ \\vec{a} = \\frac{\\vec{F}}{m}$$\n",
    "$$ \\vec{a} = \\vec{g}$$\n",
    "\n",
    "$$ \\vec{v} = \\vec{v} + \\vec{a} \\Delta t $$\n",
    "$$ \\vec{r} = \\vec{r} + \\vec{v} \\Delta t $$"
   ]
  },
  {
   "cell_type": "code",
   "execution_count": 5,
   "id": "a8af52fd-51fc-461d-ace4-250ecce8765d",
   "metadata": {
    "scrolled": true
   },
   "outputs": [
    {
     "data": {
      "text/html": [
       "<div id=\"glowscript\" class=\"glowscript\"></div>"
      ],
      "text/plain": [
       "<IPython.core.display.HTML object>"
      ]
     },
     "metadata": {},
     "output_type": "display_data"
    },
    {
     "data": {
      "application/javascript": [
       "if (typeof Jupyter !== \"undefined\") { window.__context = { glowscript_container: $(\"#glowscript\").removeAttr(\"id\")};}else{ element.textContent = ' ';}"
      ],
      "text/plain": [
       "<IPython.core.display.Javascript object>"
      ]
     },
     "metadata": {},
     "output_type": "display_data"
    }
   ],
   "source": [
    "from vpython import *\n",
    "scene = canvas()\n",
    "\n",
    "bola = sphere(pos=vector(0,20,0), make_trail=True) \n",
    "g = 9.81\n",
    "bola.v = vector(10,15,0)\n",
    "dt = 0.004\n",
    "y = bola.pos.y\n",
    "t = 0\n",
    "a = vector(0,-g,0)\n",
    "\n",
    "while bola.pos.y>0:\n",
    "    rate(100)\n",
    "    bola.v = bola.v + a*dt\n",
    "    bola.pos = bola.pos + bola.v*dt\n",
    "    t += dt"
   ]
  },
  {
   "cell_type": "markdown",
   "id": "ae997524-6c8a-4fc6-aed1-0c5a775c9110",
   "metadata": {},
   "source": [
    "## Gerak Proyektil tanpa Hambatan Udara"
   ]
  },
  {
   "cell_type": "code",
   "execution_count": 1,
   "id": "5a0f565f-738c-4fa2-bb3f-7f7b615aac59",
   "metadata": {},
   "outputs": [
    {
     "data": {
      "text/html": [
       "<div id=\"glowscript\" class=\"glowscript\"></div>"
      ],
      "text/plain": [
       "<IPython.core.display.HTML object>"
      ]
     },
     "metadata": {},
     "output_type": "display_data"
    },
    {
     "data": {
      "application/javascript": [
       "if (typeof Jupyter !== \"undefined\") { window.__context = { glowscript_container: $(\"#glowscript\").removeAttr(\"id\")};}else{ element.textContent = ' ';}"
      ],
      "text/plain": [
       "<IPython.core.display.Javascript object>"
      ]
     },
     "metadata": {},
     "output_type": "display_data"
    },
    {
     "data": {
      "text/html": [
       "<div id=\"glowscript\" class=\"glowscript\"></div>"
      ],
      "text/plain": [
       "<IPython.core.display.HTML object>"
      ]
     },
     "metadata": {},
     "output_type": "display_data"
    },
    {
     "data": {
      "application/javascript": [
       "if (typeof Jupyter !== \"undefined\") { window.__context = { glowscript_container: $(\"#glowscript\").removeAttr(\"id\")};}else{ element.textContent = ' ';}"
      ],
      "text/plain": [
       "<IPython.core.display.Javascript object>"
      ]
     },
     "metadata": {},
     "output_type": "display_data"
    }
   ],
   "source": [
    "from vpython import *\n",
    "scene = canvas()\n",
    "\n",
    "ball = sphere(pos=vector(0,0.1,0), radius=0.05, color=color.yellow, make_trail=True)\n",
    "ground = box(pos=vector(0,0,0), size=vector(2.5,0.02,0.25))\n",
    "\n",
    "g1 = graph(xtitle=\"t [s]\", ytitle=\"y [m]\")\n",
    "f1 = gcurve(color=color.blue)"
   ]
  },
  {
   "cell_type": "code",
   "execution_count": 2,
   "id": "b0e25525-c249-4fe1-a0eb-6c001721cb24",
   "metadata": {},
   "outputs": [],
   "source": [
    "f1 = gcurve(color=color.blue)\n",
    "g = vector(0,-9.8,0)\n",
    "ball.m = 0.05\n",
    "v0=3.2\n",
    "theta=60*pi/180\n",
    "\n",
    "ball.v = v0*vector(cos(theta),sin(theta),0)\n",
    "vscale=.1"
   ]
  },
  {
   "cell_type": "code",
   "execution_count": 3,
   "id": "9e8c8bc5-1e58-4e9d-905a-e01b38bec088",
   "metadata": {},
   "outputs": [],
   "source": [
    "varrow = arrow(pos=ball.pos, axis=vscale*ball.v, color=color.cyan)"
   ]
  },
  {
   "cell_type": "code",
   "execution_count": 4,
   "id": "4343297f-7d92-405f-af88-019bef2e589b",
   "metadata": {},
   "outputs": [],
   "source": [
    "t = 0\n",
    "dt = 0.001\n",
    "\n",
    "while ball.pos.y>=ground.pos.y+ball.radius+ground.size.y:\n",
    "  rate(100)\n",
    "  F = ball.m*g\n",
    "  a = F/ball.m\n",
    "  ball.v = ball.v + a*dt\n",
    "  ball.pos = ball.pos + ball.v*dt\n",
    "  varrow.pos = ball.pos\n",
    "  varrow.axis=vscale*ball.v\n",
    "  t = t + dt\n",
    "  f1.plot(t, ball.pos.y)"
   ]
  },
  {
   "cell_type": "markdown",
   "id": "925f6c6c-50ad-46cd-aad7-1c0dabfa8dc6",
   "metadata": {},
   "source": [
    "## Gerak Proyektil dengan Hambatan Udara\n",
    "  \n",
    "<div>\n",
    "<center>\n",
    "<img src=\"fdrag.png\" width=\"300\"/>\n",
    "</center>\n",
    "<font size=\"4\">\n",
    "$$ \\vec{F}_a = - \\tfrac{1}{2} \\rho C A |\\vec{v}|^2 \\hat{v}$$\n",
    "$$ \\vec{F} = \\frac{\\Delta \\vec{p}}{\\Delta t}$$\n",
    "$$ \\vec{p} = m \\vec{v}$$\n",
    "\n",
    "$$ \\vec{F}_a = - \\tfrac{1}{2} \\rho C A \\frac{|\\vec{p}|^2}{m^2} \\hat{p}$$\n",
    "\n",
    "</font>\n",
    "</div>"
   ]
  },
  {
   "cell_type": "code",
   "execution_count": null,
   "id": "4e803da6-9bf5-49d8-8752-3f6faf5c3f30",
   "metadata": {},
   "outputs": [],
   "source": [
    "from vpython import *\n",
    "scene = canvas()\n",
    "\n",
    "ball = sphere(pos=vector(-2,.1,0), radius=0.05, color=color.yellow, make_trail=True)\n",
    "ground = box(pos=vector(0,0,0), size=vector(4.5,0.02,0.25))\n",
    "g1 = graph(xtitle=\"t [s]\", ytitle=\"y [m]\")\n",
    "f1 = gcurve(color=color.blue)\n",
    "g = vector(0,-9.8,0)\n",
    "ball.m = 0.05\n",
    "v0=7.2\n",
    "theta=73*pi/180\n",
    "\n",
    "ball.p = ball.m*v0*vector(cos(theta),sin(theta),0)\n",
    "vscale=.1\n",
    "\n",
    "# varrow = arrow(pos=ball.pos, axis=vscale*ball.v, color=color.cyan)\n",
    "ball2 = sphere(pos=ball.pos, radius=ball.radius, color=color.red, make_trail=True)\n",
    "ball2.m = 0.005\n",
    "ball2.p = ball2.m*v0*vector(cos(theta),sin(theta),0)\n",
    "rho = 1.2\n",
    "A = pi*ball2.radius**2\n",
    "C = 0.47\n",
    "\n",
    "t = 0\n",
    "dt = 0.005\n",
    "\n",
    "while ball.pos.y>=ground.pos.y+ball.radius+ground.size.y:\n",
    "  rate(100)\n",
    "  F = ball.m*g\n",
    "  F2 = ball2.m*g - 0.5*rho*A*C*(mag(ball2.p))**2*norm(ball2.p)/(ball2.m)**2\n",
    "  \n",
    "  ball.p = ball.p + F*dt\n",
    "  ball2.p = ball2.p +F2*dt\n",
    "    \n",
    "  ball.pos = ball.pos + ball.p*dt/ball.m\n",
    "  ball2.pos = ball2.pos + ball2.p*dt/ball2.m\n",
    "#  varrow.pos = ball.pos\n",
    "#  varrow.axis=vscale*ball.v\n",
    "  t = t + dt\n",
    "  f1.plot(t,ball.pos.y)"
   ]
  },
  {
   "cell_type": "markdown",
   "id": "b6d1e2bc-671b-4316-9440-481e6d330517",
   "metadata": {},
   "source": [
    "## Gerak Satelit\n",
    "\n",
    "<div>\n",
    "    <table>\n",
    "        <tr>\n",
    "            <td>\n",
    "            <img src=\"orbital.png\" width=\"300\"/>\n",
    "            </td>\n",
    "            <td>\n",
    "                $$ G = 6.67 \\times 10^{-11} \\; N m^2 kg^{-2}$$\n",
    "                $$ M = 5.972 \\times 10^{24} \\; kg $$\n",
    "                $$ R = 6.37 \\times 10^6  \\; m$$\n",
    "                <br>\n",
    "                $$ F = ma \\rightarrow \\frac {GMm}{r^2}  = \\frac{mv^2}{r}$$\n",
    "                $$ v = \\sqrt{\\frac{GM}{r}}$$\n",
    "            </td>\n",
    "        </tr>       \n",
    "   </table>\n",
    "\n",
    "#### Perhitungan dalam bentuk vektor\n",
    "  \n",
    "   $$ \\vec{F} = - \\frac{GMm}{|\\vec{r}|^2} \\hat{r} $$\n",
    "   \n",
    "   $$ \\vec{r} = r_x \\hat{i} + r_y \\hat{j} + r_z \\hat{k} $$\n",
    "\n",
    "   $$ |\\vec{r}| = \\sqrt{{r_x}^2 + {r_y}^2 + {r_z}^2} $$\n",
    "\n",
    "   $$ \\hat{r} = \\frac{\\vec{r}}{|\\vec{r}| }$$\n",
    "   \n",
    "   $$ \\vec{a} = - \\frac{GM}{|\\vec{r}|^2} \\hat{r}$$\n",
    "\n",
    "</div>"
   ]
  },
  {
   "cell_type": "code",
   "execution_count": 1,
   "id": "ff6a3372-759e-4734-9c98-8459627d0997",
   "metadata": {},
   "outputs": [
    {
     "data": {
      "text/html": [
       "<div id=\"glowscript\" class=\"glowscript\"></div>"
      ],
      "text/plain": [
       "<IPython.core.display.HTML object>"
      ]
     },
     "metadata": {},
     "output_type": "display_data"
    },
    {
     "data": {
      "application/javascript": [
       "if (typeof Jupyter !== \"undefined\") { window.__context = { glowscript_container: $(\"#glowscript\").removeAttr(\"id\")};}else{ element.textContent = ' ';}"
      ],
      "text/plain": [
       "<IPython.core.display.Javascript object>"
      ]
     },
     "metadata": {},
     "output_type": "display_data"
    },
    {
     "data": {
      "text/html": [
       "<div id=\"glowscript\" class=\"glowscript\"></div>"
      ],
      "text/plain": [
       "<IPython.core.display.HTML object>"
      ]
     },
     "metadata": {},
     "output_type": "display_data"
    },
    {
     "data": {
      "application/javascript": [
       "if (typeof Jupyter !== \"undefined\") { window.__context = { glowscript_container: $(\"#glowscript\").removeAttr(\"id\")};}else{ element.textContent = ' ';}"
      ],
      "text/plain": [
       "<IPython.core.display.Javascript object>"
      ]
     },
     "metadata": {},
     "output_type": "display_data"
    }
   ],
   "source": [
    "from vpython import *\n",
    "scene = canvas()"
   ]
  },
  {
   "cell_type": "code",
   "execution_count": 3,
   "id": "20a4e41f-f6b3-40ee-a58e-cb07188d8fd4",
   "metadata": {},
   "outputs": [],
   "source": [
    "G = 6.67e-11\n",
    "M = 5.972e24\n",
    "R = 6.37e6\n",
    "\n",
    "bumi = sphere(pos=vector(0,0,0), radius=R, m=M, texture=textures.earth)"
   ]
  },
  {
   "cell_type": "code",
   "execution_count": 4,
   "id": "6a3c5b88-7b25-4fbb-b8bf-ccd0c6263711",
   "metadata": {},
   "outputs": [],
   "source": [
    "satelit = sphere(pos=vector(2*R,0,0), radius=R/10, m=1000, color=color.yellow, make_trail=True)"
   ]
  },
  {
   "cell_type": "code",
   "execution_count": 5,
   "id": "139b360e-f37e-463f-a081-8cae69b8635e",
   "metadata": {},
   "outputs": [],
   "source": [
    "t = 0\n",
    "dt = 30\n",
    "\n",
    "vc = sqrt(G*bumi.m/mag(satelit.pos))\n",
    "\n",
    "satelit.v = vector(0.3*vc, 0.9*vc, 0)"
   ]
  },
  {
   "cell_type": "code",
   "execution_count": 6,
   "id": "cf96b189-6f67-4ea6-bd68-b923e18ab691",
   "metadata": {},
   "outputs": [],
   "source": [
    "while t<60*60*24:\n",
    "    rate(100)\n",
    "    r = satelit.pos\n",
    "    m = satelit.m\n",
    "    M = bumi.m\n",
    "    F = -G*M*m*norm(r)/mag(r)**2\n",
    "    a = F/m   \n",
    "    satelit.v = satelit.v + a*dt    \n",
    "    satelit.pos = satelit.pos + satelit.v*dt   \n",
    "    t = t + dt\n",
    "    "
   ]
  },
  {
   "cell_type": "markdown",
   "id": "e8e550d7-fb59-4b2b-b1d6-7698d64a5889",
   "metadata": {},
   "source": [
    "### Momentum pada sistem Bumi Bulan"
   ]
  },
  {
   "cell_type": "code",
   "execution_count": 1,
   "id": "ae5e8383-45ef-43dd-b14f-bd5a4cc22c10",
   "metadata": {},
   "outputs": [
    {
     "data": {
      "text/html": [
       "<div id=\"glowscript\" class=\"glowscript\"></div>"
      ],
      "text/plain": [
       "<IPython.core.display.HTML object>"
      ]
     },
     "metadata": {},
     "output_type": "display_data"
    },
    {
     "data": {
      "application/javascript": [
       "if (typeof Jupyter !== \"undefined\") { window.__context = { glowscript_container: $(\"#glowscript\").removeAttr(\"id\")};}else{ element.textContent = ' ';}"
      ],
      "text/plain": [
       "<IPython.core.display.Javascript object>"
      ]
     },
     "metadata": {},
     "output_type": "display_data"
    },
    {
     "data": {
      "text/html": [
       "<div id=\"glowscript\" class=\"glowscript\"></div>"
      ],
      "text/plain": [
       "<IPython.core.display.HTML object>"
      ]
     },
     "metadata": {},
     "output_type": "display_data"
    },
    {
     "data": {
      "application/javascript": [
       "if (typeof Jupyter !== \"undefined\") { window.__context = { glowscript_container: $(\"#glowscript\").removeAttr(\"id\")};}else{ element.textContent = ' ';}"
      ],
      "text/plain": [
       "<IPython.core.display.Javascript object>"
      ]
     },
     "metadata": {},
     "output_type": "display_data"
    }
   ],
   "source": [
    "from vpython import *\n",
    "scene = canvas()\n",
    "\n",
    "g1 = graph(title=\"Earth moon\",xtitle=\"t [s]\",ytitle=\"Px [kg*m/s]\",width=400, height=200)\n",
    "fm = gcurve(color=color.blue)\n",
    "fe = gcurve(color=color.red)\n",
    "ft = gcurve(color=color.purple)\n",
    "G = 6.67e-11\n",
    "ME = 5.97e24\n",
    "RE = 6.3e6\n",
    "rem = 384.4e6\n",
    "Rm = 1.74e6\n",
    "Mm= 7.37e22\n",
    "\n",
    "earth= sphere(pos=vector(0,0,0),radius=RE, texture=textures.earth,make_trail=True)\n",
    "moon = sphere(pos=vector(rem,0,0),radius=2*Rm,make_trail=True)\n",
    "\n",
    "dt = 500\n",
    "t = 0\n",
    "vm = sqrt(G*ME/rem)*vector(0,1,0)\n",
    "ve = -Mm*vm/ME\n",
    "\n",
    "while t<50*24*3600:\n",
    "  rate(1000)\n",
    "  r = moon.pos-earth.pos\n",
    "  Fm = -G*ME*Mm*norm(r)/mag(r)**2\n",
    "  am = Fm/Mm\n",
    "  ae = -Fm/ME\n",
    "  vm = vm + am*dt\n",
    "  ve = ve + ae*dt\n",
    "  moon.pos = moon.pos +vm*dt\n",
    "  earth.pos = earth.pos + ve*dt\n",
    "  pm = Mm*vm\n",
    "  pe = ME*ve\n",
    "  fm.plot(t,pm.y)\n",
    "  fe.plot(t,pe.y)\n",
    "  ft.plot(t,pm.y+pe.y)\n",
    "  t = t + dt"
   ]
  },
  {
   "cell_type": "markdown",
   "id": "0f2305ab-d79b-4850-9998-6893eae3c00e",
   "metadata": {},
   "source": [
    "### Energi Potensial Gravitasi\n",
    "\n",
    "$$ \\vec{F} = - \\frac{GMm}{|\\vec{r}|^2} \\hat{r} $$\n",
    "\n",
    "$$ {U=-{\\frac {GMm}{R}}} $$\n",
    "\n",
    "$$ K_f = \\tfrac{1}{2}m {v_f}^2 $$\n",
    "\n",
    "$$ K_{ft} = \\frac{GMm}{R} - \\frac{GMm}{3R} $$\n",
    "\n",
    "$$ dW = Fv dt $$\n",
    "\n",
    "$$ W = \\sum{dW} $$"
   ]
  },
  {
   "cell_type": "code",
   "execution_count": 2,
   "id": "b771a4c1-daf8-4ed2-9ee5-bbc52ad9342c",
   "metadata": {},
   "outputs": [
    {
     "data": {
      "text/html": [
       "<div id=\"glowscript\" class=\"glowscript\"></div>"
      ],
      "text/plain": [
       "<IPython.core.display.HTML object>"
      ]
     },
     "metadata": {},
     "output_type": "display_data"
    },
    {
     "data": {
      "application/javascript": [
       "if (typeof Jupyter !== \"undefined\") { window.__context = { glowscript_container: $(\"#glowscript\").removeAttr(\"id\")};}else{ element.textContent = ' ';}"
      ],
      "text/plain": [
       "<IPython.core.display.Javascript object>"
      ]
     },
     "metadata": {},
     "output_type": "display_data"
    },
    {
     "name": "stdout",
     "output_type": "stream",
     "text": [
      "Energi Kinetik final =  42123324.829076484  J\n",
      "Energi Kinetik final (Hk. Kek. Energi Mekanik) =  42151576.719576724  J\n",
      "Kerja =  42139349.98322505  J\n"
     ]
    }
   ],
   "source": [
    "from vpython import *\n",
    "scene = canvas()\n",
    "\n",
    "G = 6.67e-11\n",
    "ME = 5.972e24\n",
    "R = 6.3e6\n",
    "m = 1\n",
    "\n",
    "earth=sphere(pos=vector(0,0,0),radius=R,texture=textures.earth)\n",
    "ball = sphere(pos=vector(3*R,0,0),radius=R/20, color=color.yellow, make_trail=True)\n",
    "\n",
    "v = vector(0,0,0)\n",
    "t = 0\n",
    "dt = 1\n",
    "W = 0\n",
    "\n",
    "while mag(ball.pos)>R:\n",
    "  rate(1000)\n",
    "  r = ball.pos\n",
    "  F = -(G*ME*m/mag(r)**2)*vector(1,0,0)\n",
    "  a = F/m\n",
    "  v = v + a*dt\n",
    "  ball.pos = ball.pos + v*dt\n",
    "  dW = mag(F)*mag(v)*dt\n",
    "  W = W + dW\n",
    "  t = t + dt\n",
    "\n",
    "print(\"Energi Kinetik final = \",.5*m*mag(v)**2,\" J\")\n",
    "Kft = G*ME*m/R - G*ME*m/(3*R)\n",
    "print(\"Energi Kinetik final (Hk. Kek. Energi Mekanik) = \",Kft,\" J\")\n",
    "print(\"Kerja = \",W,\" J\")"
   ]
  },
  {
   "cell_type": "markdown",
   "id": "12e84478-01b4-4d04-8f1b-f5459b3d16fc",
   "metadata": {},
   "source": [
    "* ### Escape Velocity\n",
    "\n",
    "<div>\n",
    "<center>\n",
    "<img src=\"escape_vel.png\" width=\"250\"/>\n",
    "</center>\n",
    "<font size=\"4\">\n",
    "$$ \\tfrac{1}{2}mv^2 - \\frac{GM_E\\;m}{R_E} = - \\frac{GM_E\\;m}{r_{max}}$$\n",
    "    \n",
    "$$ v^2 = 2GM_E \\left ( \\frac{1}{R_E} - \\frac{1}{r_{max}}\\right )$$\n",
    "\n",
    "$$ r_{max} \\rightarrow \\infty $$\n",
    "\n",
    "$$ v_{esc} = \\sqrt{\\frac{2GM_E}{R_E}}$$\n",
    "\n",
    "</font>\n",
    "</div>"
   ]
  },
  {
   "cell_type": "code",
   "execution_count": null,
   "id": "a35f90a2-eb8a-4e64-9050-18a4e415149b",
   "metadata": {},
   "outputs": [
    {
     "data": {
      "text/html": [
       "<div id=\"glowscript\" class=\"glowscript\"></div>"
      ],
      "text/plain": [
       "<IPython.core.display.HTML object>"
      ]
     },
     "metadata": {},
     "output_type": "display_data"
    },
    {
     "data": {
      "application/javascript": [
       "if (typeof Jupyter !== \"undefined\") { window.__context = { glowscript_container: $(\"#glowscript\").removeAttr(\"id\")};}else{ element.textContent = ' ';}"
      ],
      "text/plain": [
       "<IPython.core.display.Javascript object>"
      ]
     },
     "metadata": {},
     "output_type": "display_data"
    },
    {
     "data": {
      "text/html": [
       "<div id=\"glowscript\" class=\"glowscript\"></div>"
      ],
      "text/plain": [
       "<IPython.core.display.HTML object>"
      ]
     },
     "metadata": {},
     "output_type": "display_data"
    },
    {
     "data": {
      "application/javascript": [
       "if (typeof Jupyter !== \"undefined\") { window.__context = { glowscript_container: $(\"#glowscript\").removeAttr(\"id\")};}else{ element.textContent = ' ';}"
      ],
      "text/plain": [
       "<IPython.core.display.Javascript object>"
      ]
     },
     "metadata": {},
     "output_type": "display_data"
    }
   ],
   "source": [
    "from vpython import *\n",
    "scene = canvas()\n",
    "\n",
    "g1 = graph(xtitle=\"r [m]\",ytitle=\"E [J]\",width=400, height=200)\n",
    "fK = gcurve(color=color.red, dot=True)\n",
    "fU = gcurve(color=color.blue, dot = True)\n",
    "fE = gcurve(color=color.purple, dot = True)\n",
    "G = 6.67e-11\n",
    "ME = 5.97e24\n",
    "R = 6.3e6\n",
    "m = 100\n",
    "v1 = .8*sqrt(2*G*ME/R)\n",
    "v = vector(v1*cos(pi/4),v1*sin(pi/4),0)\n",
    "t = 0 \n",
    "dt = 1\n",
    "\n",
    "earth = sphere(pos=vector(0,0,0),radius=R, texture=textures.earth)\n",
    "ball = sphere(pos=vector(R,0,0),radius=R/20, color=color.yellow, make_trail=True)\n",
    "\n",
    "while t <8600:\n",
    "  rate(1000)\n",
    "  r = ball.pos\n",
    "  F = -G*ME*m*norm(r)/mag(r)**2\n",
    "  a = F/m\n",
    "  v = v + a*dt\n",
    "  ball.pos = ball.pos + v*dt\n",
    "  K = .5*m*mag(v)**2\n",
    "  U = - G*ME*m/mag(r)\n",
    "  E = K + U\n",
    "  fK.plot(mag(r),K)\n",
    "  fU.plot(mag(r),U)\n",
    "  fE.plot(mag(r),E)\n",
    "  t = t + dt\n",
    "\n",
    "r2 = G*ME/(-.5*v1**2+G*ME/R)\n",
    "print(\"r2 = \",r2,\" m\")"
   ]
  },
  {
   "cell_type": "code",
   "execution_count": null,
   "id": "f1e141e4-ebd2-45d7-ab2f-7adfdc952a1b",
   "metadata": {},
   "outputs": [],
   "source": []
  }
 ],
 "metadata": {
  "kernelspec": {
   "display_name": "Python 3",
   "language": "python",
   "name": "python3"
  },
  "language_info": {
   "codemirror_mode": {
    "name": "ipython",
    "version": 3
   },
   "file_extension": ".py",
   "mimetype": "text/x-python",
   "name": "python",
   "nbconvert_exporter": "python",
   "pygments_lexer": "ipython3",
   "version": "3.9.16"
  }
 },
 "nbformat": 4,
 "nbformat_minor": 5
}

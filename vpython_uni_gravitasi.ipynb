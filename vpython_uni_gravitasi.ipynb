{
 "cells": [
  {
   "cell_type": "code",
   "execution_count": null,
   "id": "d3cb9786-9088-405c-b1ef-08b23f3a2c2b",
   "metadata": {},
   "outputs": [],
   "source": [
    "from vpython import *\n",
    "scene = canvas()\n",
    "\n",
    "G = 6.67e-11\n",
    "M = 5.972e24\n",
    "R = 6.37e6\n",
    "bumi = sphere(pos=vector(0,0,0), radius=R, m=M, texture=textures.earth)\n",
    "satelit = sphere(pos=vector(2*R,0,0), radius=R/10, m=1000, color=color.yellow, make_trail=True)"
   ]
  },
  {
   "cell_type": "code",
   "execution_count": null,
   "id": "a65c0a48-99e0-463a-b2b6-b20452e0c8fd",
   "metadata": {},
   "outputs": [],
   "source": [
    "t = 0\n",
    "dt = 30\n",
    "vc = sqrt(G*bumi.m/mag(satelit.pos))\n",
    "satelit.v = vector(0.3*vc, 0.9*vc, 0)\n",
    "while t<60*60*24:\n",
    "    rate(100)\n",
    "    r = satelit.pos\n",
    "    m = satelit.m\n",
    "    M = bumi.m\n",
    "    F = -G*M*m*norm(r)/mag(r)**2\n",
    "    a = F/m   \n",
    "    satelit.v = satelit.v + a*dt    \n",
    "    satelit.pos = satelit.pos + satelit.v*dt   \n",
    "    t = t + dt   "
   ]
  }
 ],
 "metadata": {
  "kernelspec": {
   "display_name": "Python 3",
   "language": "python",
   "name": "python3"
  },
  "language_info": {
   "codemirror_mode": {
    "name": "ipython",
    "version": 3
   },
   "file_extension": ".py",
   "mimetype": "text/x-python",
   "name": "python",
   "nbconvert_exporter": "python",
   "pygments_lexer": "ipython3",
   "version": "3.9.16"
  }
 },
 "nbformat": 4,
 "nbformat_minor": 5
}
